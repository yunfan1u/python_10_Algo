{
 "cells": [
  {
   "cell_type": "code",
   "execution_count": 9,
   "metadata": {
    "collapsed": true
   },
   "outputs": [],
   "source": [
    "def lzw_enc(text):\n",
    "    \n",
    "    d = {chr(i): i for i in range(256)}    # \n",
    "    curr_code = 256\n",
    "    \n",
    "    zipped_code = []\n",
    "    s = \"\"\n",
    "    \n",
    "    for c in text:\n",
    "        if s+c in d:\n",
    "            s = s+c\n",
    "        else:\n",
    "            zipped_code.append(d[s])\n",
    "            d[s+c] = curr_code\n",
    "            curr_code += 1\n",
    "            s = c\n",
    "    zipped_code.append(d[s])\n",
    "            \n",
    "    return zipped_code\n",
    "    \n",
    "    "
   ]
  },
  {
   "cell_type": "code",
   "execution_count": 10,
   "metadata": {
    "collapsed": false
   },
   "outputs": [
    {
     "name": "stdout",
     "output_type": "stream",
     "text": [
      "{'j': 106, '\\x12': 18, 'Ä': 196, 'K': 75, 'o': 111, 'Ë': 203, 'µ': 181, '5': 53, 'G': 71, 'ñ': 241, 'O': 79, 'U': 85, '\\x9c': 156, '0': 48, '\\x04': 4, '+': 43, '¾': 190, '\\x94': 148, '\\x8b': 139, 'J': 74, 'í': 237, 'ã': 227, 'y': 121, '²': 178, 'n': 110, '3': 51, '\\x1d': 29, '\\x9f': 159, 'ê': 234, '§': 167, '}': 125, 'Ù': 217, '°': 176, 'Ê': 202, '\\x90': 144, '\\r': 13, 'Ñ': 209, '\\x87': 135, 'Q': 81, 'v': 118, 'X': 88, 'ö': 246, 'x': 120, '\\x8e': 142, 'S': 83, '«': 171, '¤': 164, '\\x15': 21, 'ó': 243, '{': 123, '\\x80': 128, 'Ú': 218, '\\x7f': 127, '2': 50, '\\xad': 173, '^': 94, 'Õ': 213, '\\x8f': 143, 'Á': 193, 'Ã': 195, '\\x9a': 154, '¼': 188, 'Ç': 199, '³': 179, '\\x8d': 141, '$': 36, '¯': 175, '9': 57, '\\x16': 22, '4': 52, 'ô': 244, ')': 41, '\\x14': 20, '/': 47, '¸': 184, '±': 177, 'l': 108, '\\x1f': 31, 'Ì': 204, 'É': 201, '(': 40, '\\x85': 133, \"'\": 39, '¢': 162, '\\x05': 5, 't': 116, '»': 187, 'Ý': 221, ':': 58, '\\t': 9, 'I': 73, '&': 38, 'g': 103, '÷': 247, 'h': 104, 'æ': 230, '\\x0b': 11, '\\x11': 17, 'ø': 248, 'Æ': 198, '\\x84': 132, ' ': 32, 'è': 232, '¶': 182, 'ò': 242, '£': 163, 'å': 229, 'á': 225, '\\x1b': 27, '\\x13': 19, 'V': 86, '×': 215, 'T': 84, '|': 124, '®': 174, 'H': 72, '\\x17': 23, 'B': 66, '\\x83': 131, '\\x1c': 28, '\\x92': 146, '\\x96': 150, 'Ø': 216, 'î': 238, 'ý': 253, '*': 42, 'r': 114, 'ì': 236, 'Ü': 220, '7': 55, '\\x9b': 155, '\\x82': 130, '\\x08': 8, 'à': 224, 'Ö': 214, 'ä': 228, 'Î': 206, 'ª': 170, 'ï': 239, '.': 46, '\\x95': 149, 'z': 122, 'u': 117, 'ß': 223, 'ÿ': 255, 'Ï': 207, '-': 45, '\\x91': 145, 'N': 78, 'Û': 219, 'R': 82, 'Ð': 208, 'M': 77, 's': 115, '6': 54, 'Å': 197, '_': 95, 'c': 99, '>': 62, 'ù': 249, '¿': 191, '~': 126, '¡': 161, 'È': 200, '¬': 172, 'F': 70, '\\x19': 25, 'm': 109, 'e': 101, 'i': 105, '\"': 34, 'w': 119, 'õ': 245, '\\x1e': 30, '\\x06': 6, 'º': 186, '¦': 166, 'þ': 254, 'W': 87, '\\x07': 7, '½': 189, '\\x10': 16, '\\x81': 129, '\\x0f': 15, 'Ô': 212, 'f': 102, '?': 63, 'Ó': 211, '´': 180, 'k': 107, '!': 33, 'ð': 240, '1': 49, '\\x8a': 138, ';': 59, '¹': 185, '\\\\': 92, '\\x02': 2, '\\x88': 136, 'ç': 231, '\\x03': 3, '\\x18': 24, '\\x93': 147, 'D': 68, 'P': 80, '\\x9d': 157, 'û': 251, '\\x89': 137, 'ú': 250, ',': 44, 'ë': 235, '\\x98': 152, '\\x9e': 158, 'b': 98, 'Ò': 210, '¨': 168, '\\x01': 1, '`': 96, '\\xa0': 160, '\\x99': 153, '\\x00': 0, '8': 56, 'Z': 90, 'C': 67, '©': 169, 'p': 112, '\\x86': 134, 'é': 233, ']': 93, 'Þ': 222, 'Â': 194, 'ü': 252, '@': 64, '=': 61, '\\x0e': 14, '\\x0c': 12, 'À': 192, 'd': 100, 'L': 76, 'q': 113, 'a': 97, 'â': 226, 'Í': 205, '\\x1a': 26, '\\n': 10, 'A': 65, 'E': 69, '·': 183, '[': 91, '<': 60, 'Y': 89, '#': 35, '¥': 165, '%': 37, '\\x97': 151, '\\x8c': 140}\n"
     ]
    }
   ],
   "source": [
    "d = {chr(i): i for i in range(256)}\n",
    "print(d)"
   ]
  },
  {
   "cell_type": "code",
   "execution_count": 14,
   "metadata": {
    "collapsed": false
   },
   "outputs": [],
   "source": [
    "z =lzw_enc(\"abcabcabcabcabcabc\")"
   ]
  },
  {
   "cell_type": "code",
   "execution_count": 15,
   "metadata": {
    "collapsed": true
   },
   "outputs": [],
   "source": [
    "def lzw_dec(z):\n",
    "    d = {i:chr(i) for i in range(256)}\n",
    "    dd = {chr(i): i for i in range(256)}\n",
    "    \n",
    "    text = \"\"\n",
    "    s = \"\"\n",
    "    \n",
    "    curr_code = 256\n",
    "    \n",
    "    for code in z:\n",
    "        if code in d:\n",
    "            decoded = d[code]\n",
    "            text += decoded\n",
    "            if s+decoded[0] not in dd:\n",
    "                d[curr_code] = s + decoded\n",
    "                dd[s+decoded[0]] = curr_code \n",
    "                curr_code += 1\n",
    "            s = decoded\n",
    "                \n",
    "        else:\n",
    "            decoded = s + s[0]\n",
    "            text += decoded\n",
    "            d[curr_code] = s + decoded\n",
    "            dd[s+decoded[0]] = curr_code \n",
    "            curr_code += 1\n",
    "            s = decoded\n",
    "    \n",
    "    return text\n",
    "    "
   ]
  },
  {
   "cell_type": "code",
   "execution_count": 16,
   "metadata": {
    "collapsed": false
   },
   "outputs": [
    {
     "data": {
      "text/plain": [
       "'abcabcabbcabcababcababc'"
      ]
     },
     "execution_count": 16,
     "metadata": {},
     "output_type": "execute_result"
    }
   ],
   "source": [
    "lzw_dec(z)"
   ]
  },
  {
   "cell_type": "code",
   "execution_count": null,
   "metadata": {
    "collapsed": true
   },
   "outputs": [],
   "source": []
  }
 ],
 "metadata": {
  "kernelspec": {
   "display_name": "Python 3",
   "language": "python",
   "name": "python3"
  },
  "language_info": {
   "codemirror_mode": {
    "name": "ipython",
    "version": 3
   },
   "file_extension": ".py",
   "mimetype": "text/x-python",
   "name": "python",
   "nbconvert_exporter": "python",
   "pygments_lexer": "ipython3",
   "version": "3.5.2"
  }
 },
 "nbformat": 4,
 "nbformat_minor": 1
}
