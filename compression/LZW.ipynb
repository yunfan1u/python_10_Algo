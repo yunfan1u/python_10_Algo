{
 "cells": [
  {
   "cell_type": "markdown",
   "metadata": {},
   "source": [
    "### LZW Compression\n",
    "#### Youn-Long Lin National Tsing Hua University"
   ]
  },
  {
   "cell_type": "code",
   "execution_count": 7,
   "metadata": {},
   "outputs": [],
   "source": [
    "def lzw_enc(text):\n",
    "    \n",
    "    d = {chr(i):i for i in range(256)}\n",
    "    curr_code = 256\n",
    "    zipped_code = []\n",
    "    s = \"\"\n",
    "    for c in text:\n",
    "        if s+c in d:\n",
    "            s = s+c\n",
    "        else:\n",
    "            zipped_code.append(d[s])\n",
    "            d[s+c] = curr_code\n",
    "            curr_code += 1\n",
    "            s = c\n",
    "    zipped_code.append(d[s])\n",
    "            \n",
    "    return zipped_code\n",
    "        "
   ]
  },
  {
   "cell_type": "code",
   "execution_count": 16,
   "metadata": {},
   "outputs": [
    {
     "data": {
      "text/plain": [
       "395"
      ]
     },
     "execution_count": 16,
     "metadata": {},
     "output_type": "execute_result"
    }
   ],
   "source": [
    "text = \"National Tsing Hua University\" * 100\n",
    "z = lzw_enc(text)\n",
    "len(z)"
   ]
  },
  {
   "cell_type": "code",
   "execution_count": 9,
   "metadata": {
    "collapsed": true
   },
   "outputs": [],
   "source": [
    "def lzw_dec(z):\n",
    "    d = {i:chr(i) for i in range(256)}\n",
    "    dd = {chr(i): i for i in range(256)}\n",
    "    text = \"\"\n",
    "    s = \"\"\n",
    "    curr_code = 256\n",
    "    for code in z:\n",
    "        if code in d:\n",
    "            decoded = d[code]\n",
    "            text += decoded\n",
    "            if s + decoded[0] not in dd:\n",
    "                d[curr_code] = s + decoded[0]\n",
    "                dd[s + decoded[0]] = curr_code\n",
    "                curr_code += 1\n",
    "            s = decoded\n",
    "        else:\n",
    "            decoded = s + s[0]\n",
    "            text += decoded\n",
    "            d[curr_code] = s + decoded[0]\n",
    "            dd[s + decoded[0]] = curr_code\n",
    "            curr_code += 1\n",
    "            s = decoded\n",
    "            \n",
    "    return text\n",
    "    \n",
    "            "
   ]
  },
  {
   "cell_type": "code",
   "execution_count": 17,
   "metadata": {},
   "outputs": [
    {
     "data": {
      "text/plain": [
       "'National Tsing Hua UniversityNational Tsing Hua UniversityNational Tsing Hua UniversityNational Tsing Hua UniversityNational Tsing Hua UniversityNational Tsing Hua UniversityNational Tsing Hua UniversityNational Tsing Hua UniversityNational Tsing Hua UniversityNational Tsing Hua UniversityNational Tsing Hua UniversityNational Tsing Hua UniversityNational Tsing Hua UniversityNational Tsing Hua UniversityNational Tsing Hua UniversityNational Tsing Hua UniversityNational Tsing Hua UniversityNational Tsing Hua UniversityNational Tsing Hua UniversityNational Tsing Hua UniversityNational Tsing Hua UniversityNational Tsing Hua UniversityNational Tsing Hua UniversityNational Tsing Hua UniversityNational Tsing Hua UniversityNational Tsing Hua UniversityNational Tsing Hua UniversityNational Tsing Hua UniversityNational Tsing Hua UniversityNational Tsing Hua UniversityNational Tsing Hua UniversityNational Tsing Hua UniversityNational Tsing Hua UniversityNational Tsing Hua UniversityNational Tsing Hua UniversityNational Tsing Hua UniversityNational Tsing Hua UniversityNational Tsing Hua UniversityNational Tsing Hua UniversityNational Tsing Hua UniversityNational Tsing Hua UniversityNational Tsing Hua UniversityNational Tsing Hua UniversityNational Tsing Hua UniversityNational Tsing Hua UniversityNational Tsing Hua UniversityNational Tsing Hua UniversityNational Tsing Hua UniversityNational Tsing Hua UniversityNational Tsing Hua UniversityNational Tsing Hua UniversityNational Tsing Hua UniversityNational Tsing Hua UniversityNational Tsing Hua UniversityNational Tsing Hua UniversityNational Tsing Hua UniversityNational Tsing Hua UniversityNational Tsing Hua UniversityNational Tsing Hua UniversityNational Tsing Hua UniversityNational Tsing Hua UniversityNational Tsing Hua UniversityNational Tsing Hua UniversityNational Tsing Hua UniversityNational Tsing Hua UniversityNational Tsing Hua UniversityNational Tsing Hua UniversityNational Tsing Hua UniversityNational Tsing Hua UniversityNational Tsing Hua UniversityNational Tsing Hua UniversityNational Tsing Hua UniversityNational Tsing Hua UniversityNational Tsing Hua UniversityNational Tsing Hua UniversityNational Tsing Hua UniversityNational Tsing Hua UniversityNational Tsing Hua UniversityNational Tsing Hua UniversityNational Tsing Hua UniversityNational Tsing Hua UniversityNational Tsing Hua UniversityNational Tsing Hua UniversityNational Tsing Hua UniversityNational Tsing Hua UniversityNational Tsing Hua UniversityNational Tsing Hua UniversityNational Tsing Hua UniversityNational Tsing Hua UniversityNational Tsing Hua UniversityNational Tsing Hua UniversityNational Tsing Hua UniversityNational Tsing Hua UniversityNational Tsing Hua UniversityNational Tsing Hua UniversityNational Tsing Hua UniversityNational Tsing Hua UniversityNational Tsing Hua UniversityNational Tsing Hua UniversityNational Tsing Hua University'"
      ]
     },
     "execution_count": 17,
     "metadata": {},
     "output_type": "execute_result"
    }
   ],
   "source": [
    "lzw_dec(z)"
   ]
  },
  {
   "cell_type": "code",
   "execution_count": 15,
   "metadata": {},
   "outputs": [
    {
     "data": {
      "text/plain": [
       "28"
      ]
     },
     "execution_count": 15,
     "metadata": {},
     "output_type": "execute_result"
    }
   ],
   "source": [
    "len(z)"
   ]
  },
  {
   "cell_type": "code",
   "execution_count": null,
   "metadata": {
    "collapsed": true
   },
   "outputs": [],
   "source": []
  }
 ],
 "metadata": {
  "kernelspec": {
   "display_name": "Python 3",
   "language": "python",
   "name": "python3"
  },
  "language_info": {
   "codemirror_mode": {
    "name": "ipython",
    "version": 3
   },
   "file_extension": ".py",
   "mimetype": "text/x-python",
   "name": "python",
   "nbconvert_exporter": "python",
   "pygments_lexer": "ipython3",
   "version": "3.7.0"
  }
 },
 "nbformat": 4,
 "nbformat_minor": 2
}
