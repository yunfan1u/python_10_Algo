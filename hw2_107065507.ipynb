{
 "cells": [
  {
   "cell_type": "markdown",
   "metadata": {},
   "source": [
    "# Homework 2\n",
    "## Student Name: 盧允凡\n",
    "## Student ID: 107065507\n",
    "***\n",
    "# Dynamics Programming\n",
    "### 1. Longest Common Subsequence\n",
    "### 2. Matrix Chain Multiplication\n",
    "### 3. Text Justification\n",
    "### 4. Coin Change\n",
    "***\n",
    "### For each problem, I employed three different approaches.\n",
    "* **Straight forward brute-force Approach (recursion)**\n",
    ">This method is to find a recurrence relation to solve the problem.\n",
    "* **Dictinary-based Approach**\n",
    ">Same as the first approach, but store the answers in a dictionary, which is a data type of Python, so we don't  have to compute the repeated subproblems. This approach is also known as \"Top-down DP\".\n",
    "* **Array-based Approach**\n",
    ">based on the recurrence relation, construct a table, and find appropriate way to fill the answers of subproblems into the table and find the optimal answer."
   ]
  },
  {
   "cell_type": "markdown",
   "metadata": {},
   "source": [
    "# 1. Longest Common Subsequence\n",
    "***\n",
    "## <font color=\"blue\">Input</font>: two sequences x and y\n",
    "## <font color=\"blue\">Output</font>: the length of the longest common subsequence\n",
    "***\n",
    "## <font color=\"blue\">Sample Input</font>: lcs('NTHU', 'NCTU')\n",
    "## <font color=\"blue\">Sample Output</font>: 3\n",
    "***\n",
    "## brute-force"
   ]
  },
  {
   "cell_type": "code",
   "execution_count": 13,
   "metadata": {
    "collapsed": false
   },
   "outputs": [
    {
     "name": "stdout",
     "output_type": "stream",
     "text": [
      "N\n",
      "T\n",
      "U\n",
      "U\n",
      "U\n",
      "U\n"
     ]
    },
    {
     "data": {
      "text/plain": [
       "3"
      ]
     },
     "execution_count": 13,
     "metadata": {},
     "output_type": "execute_result"
    }
   ],
   "source": [
    "# recursion approach (brute-force)\n",
    "\n",
    "def lcs(x, y):\n",
    "    if len(x)==0 or len(y)==0:\n",
    "        return 0\n",
    "    if x[0] == y[0]:\n",
    "        print (x[0])\n",
    "        ans = 1 + lcs(x[1:], y[1:])\n",
    "    else:\n",
    "        ans = max(lcs(x, y[1:]), lcs(x[1:], y))\n",
    "    return ans\n",
    "\n",
    "lcs(\"NTHU\", \"NCTU\")"
   ]
  },
  {
   "cell_type": "markdown",
   "metadata": {},
   "source": [
    "## Dictinary-based"
   ]
  },
  {
   "cell_type": "code",
   "execution_count": 14,
   "metadata": {
    "collapsed": false
   },
   "outputs": [
    {
     "name": "stdout",
     "output_type": "stream",
     "text": [
      "N\n",
      "T\n",
      "U\n"
     ]
    },
    {
     "data": {
      "text/plain": [
       "3"
      ]
     },
     "execution_count": 14,
     "metadata": {},
     "output_type": "execute_result"
    }
   ],
   "source": [
    "# Dictinary-based Approach\n",
    "\n",
    "def lcsDict(x, y, dic):\n",
    "    key = str(len(x)) + \"-\" + str(len(y))\n",
    "    if key in dic:\n",
    "        return dic[key]\n",
    "    if len(x) == 0 or len(y) == 0:\n",
    "        dic[key] = 0\n",
    "        return dic[key]\n",
    "    if x[0] == y[0]:\n",
    "        print(x[0])\n",
    "        ans = 1 + lcsDict(x[1:], y[1:], dic)\n",
    "    else:\n",
    "        ans = max(lcsDict(x, y[1:], dic), lcsDict(x[1:], y, dic))\n",
    "    dic[key] = ans\n",
    "    return dic[key]\n",
    "\n",
    "lcsDict('NTHU', 'NCTU', {})"
   ]
  },
  {
   "cell_type": "markdown",
   "metadata": {},
   "source": [
    "## Array-based"
   ]
  },
  {
   "cell_type": "code",
   "execution_count": 1,
   "metadata": {
    "collapsed": false
   },
   "outputs": [
    {
     "name": "stdout",
     "output_type": "stream",
     "text": [
      "[[0, 0, 0, 0, 0], [0, 1, 1, 1, 1], [0, 1, 1, 1, 1], [0, 1, 2, 2, 2], [0, 1, 2, 2, 3]]\n"
     ]
    },
    {
     "data": {
      "text/plain": [
       "3"
      ]
     },
     "execution_count": 1,
     "metadata": {},
     "output_type": "execute_result"
    }
   ],
   "source": [
    "# Array-based Approach\n",
    "# 1D array\n",
    "\n",
    "def lcsLoop(x, y):\n",
    "    arr = [[0 for j in range(len(y)+1)] for i in range(len(x)+1)]\n",
    "    for i in range(1, len(x)+1):\n",
    "        for j in range(1, len(y)+1):\n",
    "            if x[len(x)-i] == y[len(y)-j]:\n",
    "                arr[i][j] = 1 + arr[i-1][j-1]\n",
    "            else:\n",
    "                arr[i][j] = max(arr[i-1][j], arr[i][j-1])\n",
    "    print (arr)\n",
    "    \n",
    "    return arr[len(x)][len(y)]\n",
    "\n",
    "lcsLoop('NTHU', 'NCTU')"
   ]
  },
  {
   "cell_type": "markdown",
   "metadata": {},
   "source": [
    "# 2. Matrix Chain Multiplication\n",
    "***\n",
    "## <font color=\"blue\">Input</font>: a list of matrices to multiply; an m by n matrix is represented by (m, n) \n",
    "## <font color=\"blue\">Output</font>: the minium times of multiplication\n",
    "***\n",
    "## <font color=\"blue\">Sample Input</font>: [(1, 10), (10, 1), (1, 5)]\n",
    "## <font color=\"blue\">Sample Output</font>: 15\n",
    "***\n",
    "## brute force"
   ]
  },
  {
   "cell_type": "code",
   "execution_count": 2,
   "metadata": {
    "collapsed": false
   },
   "outputs": [
    {
     "data": {
      "text/plain": [
       "2770"
      ]
     },
     "execution_count": 2,
     "metadata": {},
     "output_type": "execute_result"
    }
   ],
   "source": [
    "# recursion approach (brute-force)\n",
    "\n",
    "def mcm(ch):\n",
    "    if len(ch) <= 1:\n",
    "        return 0\n",
    "    else:\n",
    "        cost = min([ mcm(ch[:k])+\n",
    "                   mcm(ch[k:]) +\n",
    "                   ch[0][0] * ch[k-1][1] * ch[-1][1]\n",
    "                   for k in range(1, len(ch)) ])\n",
    "        return cost\n",
    "    \n",
    "chain = [(10, 11), (11, 25), (25, 40), (40, 2)]\n",
    "mcm(chain)"
   ]
  },
  {
   "cell_type": "markdown",
   "metadata": {},
   "source": [
    "## Dictinary-based\n",
    "## Here, we need to input two more parameters in mcmDict(ch, i, j, dic) to indicate where to start and end in the list of matrices. i.e., the minimum multiplication from m[i] to m[j]."
   ]
  },
  {
   "cell_type": "code",
   "execution_count": 3,
   "metadata": {
    "collapsed": false
   },
   "outputs": [
    {
     "data": {
      "text/plain": [
       "2770"
      ]
     },
     "execution_count": 3,
     "metadata": {},
     "output_type": "execute_result"
    }
   ],
   "source": [
    "# Dictinary-based Approach\n",
    "\n",
    "def mcmDict(ch, i, j, dic):\n",
    "    key = str(i) + \"-\" + str(j)\n",
    "    \n",
    "    if key in dic:\n",
    "        return dic[key]\n",
    "    else:\n",
    "        if i == j:\n",
    "            dic[key] = 0\n",
    "        else:\n",
    "            dic[key] = min([ mcmDict(ch, i, k, dic)+\n",
    "                           mcmDict(ch, k+1, j, dic) +\n",
    "                           ch[i][0] * ch[k][1] * ch[j][1]\n",
    "                           for k in range(i, j) ])\n",
    "        return dic[key]\n",
    "    \n",
    "mcmDict(chain, 0, len(chain)-1, {})"
   ]
  },
  {
   "cell_type": "markdown",
   "metadata": {},
   "source": [
    "## Array-based\n",
    "## Here, we fill the table from left-up to right-down."
   ]
  },
  {
   "cell_type": "code",
   "execution_count": 5,
   "metadata": {
    "collapsed": false
   },
   "outputs": [
    {
     "name": "stdout",
     "output_type": "stream",
     "text": [
      "[[    0  2750 12750  2770]\n",
      " [    0     0 11000  2550]\n",
      " [    0     0     0  2000]\n",
      " [    0     0     0     0]]\n"
     ]
    },
    {
     "data": {
      "text/plain": [
       "2770"
      ]
     },
     "execution_count": 5,
     "metadata": {},
     "output_type": "execute_result"
    }
   ],
   "source": [
    "# Array-based Approach\n",
    "# 2D table\n",
    "\n",
    "import numpy as np\n",
    "\n",
    "def mcmLoop(chain):\n",
    "    n = len(chain)\n",
    "    table = np.zeros((n, n), dtype=int)\n",
    "    \n",
    "    for i in range(n-1):              # fill from left-up to right-down\n",
    "        r, c = 0, i+1\n",
    "        for j in range(n-1-i):        # ch[i,j] = min{ch[i,k] + ch[k+1,j] + pi-1*pk*pj} for i<=k<j\n",
    "            table[r, c] = min([ table[r, k] + \n",
    "                            table[k+1, c] +\n",
    "                            chain[r][0] * chain[k][1] * chain[c][1]\n",
    "                            for k in range(r, c) ])\n",
    "            r, c = r+1, c+1\n",
    "    print(table)\n",
    "    return table[0][n-1]\n",
    "\n",
    "mcmLoop(chain)"
   ]
  },
  {
   "cell_type": "markdown",
   "metadata": {},
   "source": [
    "# 3. Text Justification\n",
    "***\n",
    "## <font color=\"blue\">Input</font>: a list of paragraph that splited in words \n",
    "## <font color=\"blue\">Output</font>: the minium cost to waste\n",
    "***\n",
    "## brute force"
   ]
  },
  {
   "cell_type": "code",
   "execution_count": 21,
   "metadata": {
    "collapsed": false
   },
   "outputs": [
    {
     "data": {
      "text/plain": [
       "61"
      ]
     },
     "execution_count": 21,
     "metadata": {},
     "output_type": "execute_result"
    }
   ],
   "source": [
    "# brute-force\n",
    "\n",
    "def costFunction(usage, lw):\n",
    "    return (lw - usage)**2\n",
    "\n",
    "def tj(tl, lw):        # assume that lw is always larger than t1\n",
    "    if len(tl) == 0:\n",
    "        return 0\n",
    "    \n",
    "    elif len(tl) == 1:\n",
    "        return costFunction(len(tl[0]), lw)\n",
    "    \n",
    "    else:\n",
    "        usage = len(tl[0])                     # we can always put the first word for usage since lw >= t1\n",
    "        waste = [costFunction(usage, lw)]      # an array to record the waste from 1 to n words in line\n",
    "        maxwords = 1\n",
    "        while (usage+1+len(tl[maxwords]) <= lw):    # +1 means the 'space'\n",
    "            usage = usage + 1 + len(tl[maxwords])\n",
    "            waste.append(costFunction(usage, lw))\n",
    "            maxwords += 1\n",
    "            if maxwords == len(tl):\n",
    "                break\n",
    "                \n",
    "    min_cost = min([ waste[k] + tj(tl[k+1:], lw) for k in range(maxwords) ])\n",
    "                \n",
    "    return min_cost\n",
    "\n",
    "text = \"It was the worst of time. It was the best of time.\".split()\n",
    "tj(text, 30)"
   ]
  },
  {
   "cell_type": "markdown",
   "metadata": {},
   "source": [
    "## Dictinary-based"
   ]
  },
  {
   "cell_type": "code",
   "execution_count": 22,
   "metadata": {
    "collapsed": false
   },
   "outputs": [
    {
     "data": {
      "text/plain": [
       "61"
      ]
     },
     "execution_count": 22,
     "metadata": {},
     "output_type": "execute_result"
    }
   ],
   "source": [
    "# Dictinary-based Approach\n",
    "\n",
    "def tjDict(tl, lw, dic, i, j):    # from tl[i] to tl[j]\n",
    "    \n",
    "    key = str(i) + \"-\" + str(j)\n",
    "    \n",
    "    if key in dic:\n",
    "        return dic[key]\n",
    "    \n",
    "    elif i >= j:\n",
    "        dic[key] = 0\n",
    "        return dic[key]\n",
    "    \n",
    "    else:\n",
    "        usage = len(tl[i])\n",
    "        waste = [costFunction(usage, lw)]\n",
    "        k = 1\n",
    "        while (i+k<j and usage+1+len(tl[i+k]) <= lw):\n",
    "            usage = usage + 1 + len(tl[i+k])\n",
    "            waste.append(costFunction(usage, lw))\n",
    "            k += 1\n",
    "            \n",
    "        dic[key] = min([ w + tjDict(tl, lw, dic, i+r+1, j) for r, w in enumerate(waste) ])\n",
    "        return dic[key]\n",
    "    \n",
    "tjDict(text, 30, {}, 0, len(text))"
   ]
  },
  {
   "cell_type": "markdown",
   "metadata": {},
   "source": [
    "## Array-based"
   ]
  },
  {
   "cell_type": "code",
   "execution_count": 23,
   "metadata": {
    "collapsed": false
   },
   "outputs": [
    {
     "name": "stdout",
     "output_type": "stream",
     "text": [
      "Cost [61, 100, 162, 250, 394, 0, 36, 81, 169, 289, 484, 625, 0]\n",
      "Wordsinline [6, 5, 5, 4, 4, 7, 6, 5, 4, 3, 2, 1, 0]\n",
      "It was the worst of time.\n",
      "It was the best of time.\n",
      "\n"
     ]
    }
   ],
   "source": [
    "# Array-based Approach\n",
    "# 1D array\n",
    "\n",
    "def tjLoop(tl, lw):\n",
    "    t_len = len(tl)\n",
    "    cost = [0]*(t_len+1)\n",
    "    wordsinline = [0]*(t_len+1)\n",
    "    \n",
    "    for i in range(t_len-1, -1, -1):        # from n to 0\n",
    "        usage = len(tl[i])\n",
    "        waste = [costFunction(len(tl[i]), lw)]\n",
    "        j = i + 1\n",
    "        while (j <= t_len-1 and usage+1+len(tl[j]) <= lw):\n",
    "            usage = usage+1+len(tl[j])\n",
    "            waste.append(costFunction(usage, lw))\n",
    "            j += 1\n",
    "            \n",
    "        cost[i], wordsinline[i] = min([ (w + cost[i+1+k], k+1) for k, w in enumerate(waste) ])    # k = words in line\n",
    "        \n",
    "    print (\"Cost\", cost)\n",
    "    print (\"Wordsinline\", wordsinline)\n",
    "    \n",
    "    jtext = \"\"\n",
    "    i = 0\n",
    "    while i <= t_len-1:\n",
    "        line = str(tl[i])\n",
    "        if i < t_len-1:\n",
    "            for j in range(i+1, i+wordsinline[i]):\n",
    "                line += \" \" + str(tl[j])\n",
    "        line += \"\\n\"\n",
    "        jtext += line\n",
    "        i += wordsinline[i]\n",
    "        \n",
    "    print (jtext)\n",
    "    \n",
    "tjLoop(text, 30)"
   ]
  },
  {
   "cell_type": "markdown",
   "metadata": {},
   "source": [
    "# 4. Coin Change\n",
    "***\n",
    "## <font color=\"blue\">Input</font>: a list of coins that can be used and a value N\n",
    "## <font color=\"blue\">Output</font>: how many ways to make the change\n",
    "***\n",
    "## <font color=\"blue\">Sample Input</font>: [2, 5, 3, 6]\n",
    "## <font color=\"blue\">Sample Output</font>: 10\n",
    "***\n",
    "## brute force"
   ]
  },
  {
   "cell_type": "code",
   "execution_count": 24,
   "metadata": {
    "collapsed": false
   },
   "outputs": [
    {
     "data": {
      "text/plain": [
       "5"
      ]
     },
     "execution_count": 24,
     "metadata": {},
     "output_type": "execute_result"
    }
   ],
   "source": [
    "# brute-force\n",
    "\n",
    "def coinChange(coin, N):\n",
    "    if N == 0:\n",
    "        return 1\n",
    "    elif N < 0:\n",
    "        return 0\n",
    "    elif N>0 and len(coin)<=0:\n",
    "        return 0\n",
    "    else:\n",
    "        return coinChange(coin[:-1], N) + coinChange(coin, N-coin[-1])\n",
    "\n",
    "c = [2,5,3,6]\n",
    "coinChange(c, 10)"
   ]
  },
  {
   "cell_type": "markdown",
   "metadata": {},
   "source": [
    "## Dictinary-based\n",
    "## we need a number M that means from coin[0] to coin[M] are available."
   ]
  },
  {
   "cell_type": "code",
   "execution_count": 6,
   "metadata": {
    "collapsed": false
   },
   "outputs": [
    {
     "data": {
      "text/plain": [
       "5"
      ]
     },
     "execution_count": 6,
     "metadata": {},
     "output_type": "execute_result"
    }
   ],
   "source": [
    "# Dictinary-based Approach\n",
    "\n",
    "def ccDict(coin, M, N, dic):\n",
    "    key = str(M) + \"-\" + str(N)\n",
    "    if key in dic:\n",
    "        return dic[key]\n",
    "    else:\n",
    "        if N == 0:\n",
    "            dic[key] = 1\n",
    "        elif N < 0:\n",
    "            dic[key] = 0\n",
    "        elif N>0 and M<=0:\n",
    "            dic[key] = 0\n",
    "        else:\n",
    "            dic[key] = ccDict(coin, M-1, N, dic) + ccDict(coin, M, N-coin[M-1], dic)\n",
    "            \n",
    "        return dic[key]\n",
    "            \n",
    "c = [2,5,3,6]\n",
    "ccDict(c, len(c), 10, {})"
   ]
  },
  {
   "cell_type": "markdown",
   "metadata": {},
   "source": [
    "## Array-based"
   ]
  },
  {
   "cell_type": "code",
   "execution_count": 3,
   "metadata": {
    "collapsed": false
   },
   "outputs": [
    {
     "name": "stdout",
     "output_type": "stream",
     "text": [
      "[[1, 1, 1, 1], [0, 0, 0, 0], [1, 1, 1, 1], [0, 0, 1, 1], [1, 1, 1, 1], [0, 1, 2, 2], [1, 1, 2, 3], [0, 1, 2, 2], [1, 1, 3, 4], [0, 1, 3, 4], [1, 2, 4, 5]]\n"
     ]
    },
    {
     "data": {
      "text/plain": [
       "5"
      ]
     },
     "execution_count": 3,
     "metadata": {},
     "output_type": "execute_result"
    }
   ],
   "source": [
    "# Array-based Approach\n",
    "# 2D array\n",
    "\n",
    "def ccLoop(coin, N):\n",
    "    M = len(coin)\n",
    "    table = [[0 for x in range(M)] for x in range(N+1)] \n",
    "    \n",
    "    for i in range(M): \n",
    "        table[0][i] = 1\n",
    "        \n",
    "    for i in range(1, N+1):    # row-major\n",
    "        for j in range(M):\n",
    "            t1 = table[i][j-1] if j >= 1 else 0\n",
    "            t2 = table[i - coin[j]][j] if i-coin[j] >= 0 else 0\n",
    "            table[i][j] = t1 + t2 \n",
    "    \n",
    "    print(table)\n",
    "    return table[N][M-1]\n",
    "    \n",
    "c = [2,5,3,6]\n",
    "ccLoop(c, 10)"
   ]
  },
  {
   "cell_type": "code",
   "execution_count": null,
   "metadata": {
    "collapsed": true
   },
   "outputs": [],
   "source": []
  }
 ],
 "metadata": {
  "anaconda-cloud": {},
  "kernelspec": {
   "display_name": "Python [default]",
   "language": "python",
   "name": "python3"
  },
  "language_info": {
   "codemirror_mode": {
    "name": "ipython",
    "version": 3
   },
   "file_extension": ".py",
   "mimetype": "text/x-python",
   "name": "python",
   "nbconvert_exporter": "python",
   "pygments_lexer": "ipython3",
   "version": "3.5.2"
  }
 },
 "nbformat": 4,
 "nbformat_minor": 1
}
